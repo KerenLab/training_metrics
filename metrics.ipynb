{
 "cells": [
  {
   "cell_type": "code",
   "execution_count": 1,
   "metadata": {},
   "outputs": [],
   "source": [
    "import xarray as xr\n",
    "import torch\n",
    "import matplotlib.pyplot as plt\n",
    "import numpy as np\n",
    "import seaborn as sns\n",
    "from sklearn.metrics import f1_score as f1\n",
    "from sklearn.metrics import mean_squared_error as mse\n",
    "from sklearn.metrics import auc\n",
    "import skimage.io as io\n",
    "import pandas as pd\n",
    "import scipy.stats as stats\n",
    "import scipy as sp\n",
    "from scipy import ndimage\n",
    "import os\n",
    "import dataframe_image as dfi\n",
    "sns.set()"
   ]
  },
  {
   "cell_type": "code",
   "execution_count": 2,
   "metadata": {},
   "outputs": [],
   "source": [
    "all_data = xr.load_dataarray(r'C:\\Users\\vovam\\Desktop\\rotations\\Leeat Keren\\data\\all_data.nc')"
   ]
  },
  {
   "cell_type": "code",
   "execution_count": 3,
   "metadata": {},
   "outputs": [],
   "source": [
    "hat_dat = torch.load(r'Z:\\vovam\\Vova\\outputs\\2021-05-19\\16-27-48\\x_hat\\iter164500_0.24.pt',map_location=torch.device('cpu'))\n",
    "hat_dat = hat_dat.detach().numpy().squeeze()"
   ]
  },
  {
   "cell_type": "code",
   "execution_count": 4,
   "metadata": {},
   "outputs": [],
   "source": [
    "def print_scores(scores, channels, ch_range):\n",
    "    new_metric = np.zeros([1,ch_range])\n",
    "    for i, chname in enumerate(channels):\n",
    "        new_metric[0,i] = scores[0][0][i]/(scores[1][0][i]*100)\n",
    "        print('For ch {}_{}'.format(i, chname))\n",
    "        print('The f1 score is {:.2f} rmse is {:.6f} new metric {:.2f} '.format(scores[0][0][i], scores[1][0][i], new_metric[0,i]))"
   ]
  },
  {
   "cell_type": "code",
   "execution_count": 5,
   "metadata": {},
   "outputs": [],
   "source": [
    "def get_scores(p_true, p_hat, point_name,channels):\n",
    "    \n",
    "    ch_range = len(channels)\n",
    "    f1scores = np.zeros([1,ch_range])\n",
    "    rmsescores = np.zeros([1,ch_range])\n",
    "    falsepositive = np.zeros([1,ch_range])\n",
    "    falsenegative = np.zeros([1,ch_range])\n",
    "\n",
    "    for i,chname in enumerate(channels):\n",
    "\n",
    "        true_data = p_true.sel(fovs=[point_name], channels = chname)\n",
    "        true_data = true_data.values.squeeze().flatten()\n",
    "        \n",
    "        hat_data = p_hat[i,:,:].squeeze().flatten()\n",
    "        hat_data = np.rint(hat_data)\n",
    "        hat_data = hat_data.clip(min=0)\n",
    "        \n",
    "        binary_true = 1 * (true_data > 0)\n",
    "        binary_hat = 1 *(hat_data > 0)\n",
    "        \n",
    "        falsepositive[0,i] = sum((binary_hat - binary_true) == 1) / len(binary_hat)\n",
    "        falsenegative[0,i] = sum((binary_hat - binary_true) == -1) / len(binary_hat)\n",
    "        f1scores[0,i] = f1(binary_true,binary_hat)\n",
    "        rmsescores[0,i] = mse(true_data, hat_data, squared = False)/np.linalg.norm(true_data, ord=None, axis=None, keepdims=False) \n",
    "        \n",
    "    return(f1scores, rmsescores, falsepositive, falsenegative)\n",
    "        \n",
    "        "
   ]
  },
  {
   "cell_type": "code",
   "execution_count": 6,
   "metadata": {},
   "outputs": [],
   "source": [
    "def save_pics(data, prefix, channels, path):\n",
    "     \n",
    "    for i,chname in enumerate(channels):\n",
    "        pic_data = data[i,:,:].squeeze().flatten()\n",
    "        pic_data = np.rint(pic_data)\n",
    "        pic_data = pic_data.clip(min=0)\n",
    "        pic_name = '{}_00{}_{}.tif'.format(prefix,i,chname)\n",
    "        io.imsave(os.path.join(path,pic_name), pic_data.reshape((2048,2048)), check_contrast=False)"
   ]
  },
  {
   "cell_type": "code",
   "execution_count": 21,
   "metadata": {},
   "outputs": [],
   "source": [
    "def combine_everyting(p_true, p_dat, channels, path, pics=False, point_name='Point5'):\n",
    "    \n",
    "    if pics:\n",
    "        pic_path = os.path.join(path, 'pictures')\n",
    "        save_pics(p_dat, 'hat', channels, pic_path)\n",
    "        \n",
    "    scores = get_scores(p_true, p_dat, point_name, channels)\n",
    "    scores_df = pd.DataFrame({'F1':scores[0][0],'RMSE':scores[1][0],'FalsePos':scores[2][0],'FalseNeg':scores[3][0]},index = channels)\n",
    "    scores_df.to_csv(os.path.join(path, 'scores.csv'), index = True)\n",
    "    \n",
    "    f = plt.figure()\n",
    "    f.set_figheight(20)\n",
    "    f.set_figwidth(30)\n",
    "    ax = f.add_subplot(311)\n",
    "    ax2 = f.add_subplot(312)\n",
    "    ax3 = f.add_subplot(313)\n",
    "\n",
    "    scores_df.loc[:,['FalsePos','FalseNeg']].plot.box(ax=ax3)\n",
    "\n",
    "    ax.bar(channels,scores[0][0])\n",
    "\n",
    "    ax2.scatter(range(1,26),sorted(list(scores[0][0])))\n",
    "    ax2.set_xlabel('Channels in f1 ascending order')\n",
    "    ax2.set_ylabel('F1 score')\n",
    "    ys = scores[0][0]\n",
    "    ax2.set_title('computed AUC using sklearn.metrics.auc: {}'.format(auc(range(1,26),ys)))\n",
    "\n",
    "    f.savefig(os.path.join(path,'plots.pdf'))\n",
    "    dfi.export(scores_df, os.path.join(result_p,'df_pic.png'))\n",
    "\n",
    "    return scores, scores_df"
   ]
  },
  {
   "cell_type": "code",
   "execution_count": 22,
   "metadata": {},
   "outputs": [],
   "source": [
    "with open(r'Z:\\vovam\\Vova\\data\\matrices\\8_25\\channels.txt') as f:\n",
    "    ch_list = f.read().split('\\n')\n",
    "result_p = r'C:\\Users\\vovam\\Desktop\\rotations\\Leeat Keren\\8_25epxeriments\\outputs\\19_05\\results'\n",
    "scores, df = combine_everyting(all_data, hat_dat, ch_list, result_p)"
   ]
  },
  {
   "cell_type": "code",
   "execution_count": 89,
   "metadata": {},
   "outputs": [],
   "source": [
    "\n",
    "\n"
   ]
  }
 ],
 "metadata": {
  "kernelspec": {
   "display_name": "Python 3",
   "language": "python",
   "name": "python3"
  },
  "language_info": {
   "codemirror_mode": {
    "name": "ipython",
    "version": 3
   },
   "file_extension": ".py",
   "mimetype": "text/x-python",
   "name": "python",
   "nbconvert_exporter": "python",
   "pygments_lexer": "ipython3",
   "version": "3.8.10"
  }
 },
 "nbformat": 4,
 "nbformat_minor": 1
}