{
 "cells": [
  {
   "cell_type": "code",
   "execution_count": 1,
   "metadata": {},
   "outputs": [],
   "source": [
    "import xarray as xr\n",
    "import scipy as sp\n",
    "from scipy import ndimage\n",
    "import torch\n",
    "import matplotlib.pyplot as plt\n",
    "import numpy as np\n",
    "import seaborn as sns\n",
    "from sklearn import preprocessing\n",
    "from sklearn.metrics import f1_score as f1\n",
    "from sklearn.metrics import jaccard_score as jacc\n",
    "from sklearn.metrics import mean_squared_error as mse\n",
    "import skimage.io as io\n",
    "import pandas as pd\n",
    "import scipy.stats as stats\n",
    "import seaborn as sns\n",
    "import os\n",
    "sns.set()"
   ]
  },
  {
   "cell_type": "code",
   "execution_count": 2,
   "metadata": {},
   "outputs": [],
   "source": [
    "all_data = xr.load_dataarray(r'C:\\Users\\vovam\\Desktop\\rotations\\Leeat Keren\\data\\all_data.nc')"
   ]
  },
  {
   "cell_type": "raw",
   "metadata": {},
   "source": [
    "standart_reg = torch.load(r'Z:\\vovam\\Vova\\outputs\\2021-05-11\\10-15-25\\x_hat\\iter179000_0.23.pt',map_location=torch.device('cpu'))\n",
    "standart_reg = standart_reg.detach().numpy().squeeze()"
   ]
  },
  {
   "cell_type": "code",
   "execution_count": 3,
   "metadata": {},
   "outputs": [],
   "source": [
    "l1_3to7 = torch.load(r'Z:\\vovam\\Vova\\outputs\\2021-05-18\\08-45-56\\x_hat\\iter521000_5.56.pt',map_location=torch.device('cpu'))\n",
    "l1_3to7 = l1_3to7.detach().numpy().squeeze()"
   ]
  },
  {
   "cell_type": "markdown",
   "metadata": {},
   "source": [
    "reg_2 = torch.load(r'Z:\\vovam\\Vova\\outputs\\2021-05-12\\12-21-36\\x_hat\\iter127500_0.25.pt',map_location=torch.device('cpu'))\n",
    "reg_2 = reg_2.detach().numpy().squeeze()"
   ]
  },
  {
   "cell_type": "code",
   "execution_count": 4,
   "metadata": {},
   "outputs": [],
   "source": [
    "def print_scores(scores, channels, ch_range):\n",
    "    new_metric = np.zeros([1,ch_range])\n",
    "    for i, chname in enumerate(channels):\n",
    "        new_metric[0,i] = scores[0][0][i]/(scores[1][0][i]*100)\n",
    "        print('For ch {}_{}'.format(i, chname))\n",
    "        print('The f1 score is {:.2f} rmse is {:.6f} new metric {:.2f} '.format(scores[0][0][i], scores[1][0][i], new_metric[0,i]))\n",
    "    #plt.scatter(preprocessing.normalize(scores[0]),preprocessing.normalize(new_metric))\n",
    "    #return(new_metric)"
   ]
  },
  {
   "cell_type": "code",
   "execution_count": 5,
   "metadata": {},
   "outputs": [],
   "source": [
    "def get_scores(p_true, p_hat, point_name,channels):\n",
    "    \n",
    "    ch_range = len(channels)\n",
    "    f1scores = np.zeros([1,ch_range])\n",
    "    rmsescores = np.zeros([1,ch_range])\n",
    "    falsepositive = np.zeros([1,ch_range])\n",
    "    falsenegative = np.zeros([1,ch_range])\n",
    "    #sum_signal = np.zeros([1,ch_range])\n",
    "    #binary_sum = np.zeros([1,ch_range])\n",
    "    for i,chname in enumerate(channels):\n",
    "\n",
    "        true_data = p_true.sel(fovs=[point_name], channels = chname)\n",
    "        true_data = true_data.values.squeeze().flatten()\n",
    "        \n",
    "        hat_data = p_hat[i,:,:].squeeze().flatten()\n",
    "        hat_data = np.rint(hat_data)\n",
    "        hat_data = hat_data.clip(min=0)\n",
    "        \n",
    "        #io.imsave(f'permut_experiments/pictures/scores_5_{i}_{chname}.tif', hat_data.reshape((2048,2048)), check_contrast=False)\n",
    "\n",
    "        binary_true = 1 * (true_data > 0)\n",
    "        binary_hat = 1 *(hat_data > 0)\n",
    "        \n",
    "        falsepositive[0,i] = sum((binary_hat - binary_true) == 1) / len(binary_hat)\n",
    "        falsenegative[0,i] = sum((binary_hat - binary_true) == -1) / len(binary_hat)\n",
    "        f1scores[0,i] = f1(binary_true,binary_hat)\n",
    "        rmsescores[0,i] = mse(true_data, hat_data, squared = False)/np.linalg.norm(true_data, ord=None, axis=None, keepdims=False)\n",
    "        #sum_signal[0,i] = sum(true_data)\n",
    "        #binary_sum[0,i] = sum(binary_true) \n",
    "        \n",
    "    return(f1scores, rmsescores, falsepositive, falsenegative)\n",
    "        \n",
    "        "
   ]
  },
  {
   "cell_type": "code",
   "execution_count": 6,
   "metadata": {},
   "outputs": [],
   "source": [
    "def save_pics(data, prefix, channels, path):\n",
    "     \n",
    "    for i,chname in enumerate(channels):\n",
    "        pic_data = data[i,:,:].squeeze().flatten()\n",
    "        pic_data = np.rint(pic_data)\n",
    "        pic_data = pic_data.clip(min=0)\n",
    "        pic_name = '{}_00{}_{}.tif'.format(prefix,i,chname)\n",
    "        io.imsave(os.path.join(path,pic_name), pic_data.reshape((2048,2048)), check_contrast=False)\n"
   ]
  },
  {
   "cell_type": "code",
   "execution_count": 7,
   "metadata": {},
   "outputs": [],
   "source": [
    "with open(r'Z:\\vovam\\Vova\\data\\matrices\\3_7\\channels.txt') as f:\n",
    "    ch_list = f.read().split('\\n')"
   ]
  },
  {
   "cell_type": "code",
   "execution_count": 8,
   "metadata": {},
   "outputs": [],
   "source": [
    "path = r'C:\\Users\\vovam\\Desktop\\rotations\\Leeat Keren\\pictures and results\\3to7\\pictures'\n",
    "save_pics(l1_3to7, '3to7_thirdtry', ch_list, path)"
   ]
  },
  {
   "cell_type": "code",
   "execution_count": 9,
   "metadata": {},
   "outputs": [],
   "source": [
    "scores = get_scores(all_data, l1_3to7,'Point5',ch_list)\n",
    "#print_scores(standart, ch_list,len(ch_list))\n",
    "#scores_2 = get_scores(all_data, reg_2,'Point5',ch_list)\n"
   ]
  },
  {
   "cell_type": "code",
   "execution_count": 10,
   "metadata": {},
   "outputs": [],
   "source": [
    "scores_df = pd.DataFrame({'F1':scores[0][0],'RMSE':scores[1][0],'FalsePos':scores[2][0],'FalseNeg':scores[3][0]}\n",
    "                         ,index = ch_list)"
   ]
  },
  {
   "cell_type": "markdown",
   "metadata": {},
   "source": [
    "scores_df = pd.read_csv(r'C:\\Users\\vovam\\Desktop\\rotations\\Leeat Keren\\training_metrics\\reg_experiments\\reg_experiments.csv'\n",
    "                        ,index_col = 0 )\n",
    "scores_df.loc[:,'Reg1F1'] = scores_1[0][0]\n",
    "scores_df.loc[:, 'Reg1RMSE'] = scores_1[1][0]\n",
    "scores_df.loc[:,'FalsePosReg1'] = scores_1[2][0]\n",
    "scores_df.loc[:, 'FalseNegReg1'] = scores_1[3][0]\n",
    "scores_df.loc[:,'Reg2F1'] = scores_2[0][0]\n",
    "scores_df.loc[:, 'Reg2RMSE'] = scores_2[1][0]\n",
    "scores_df.loc[:,'FalsePosReg2'] = scores_2[2][0]\n",
    "scores_df.loc[:, 'FalseNegReg2'] = scores_2[3][0]"
   ]
  },
  {
   "cell_type": "raw",
   "metadata": {},
   "source": [
    "with open(r'Z:\\vovam\\Vova\\data\\matrices\\8_25\\channels.txt') as f:\n",
    "    ch_list = f.read().split('\\n')\n",
    "new_metric = pd.DataFrame({'Standart':print_scores(standart, ch_list,len(ch_list))[0],\n",
    "                          'scores_5':print_scores(scores_5, ch_list,len(ch_list))[0]\n",
    "                          }, index = ch_list)"
   ]
  },
  {
   "cell_type": "raw",
   "metadata": {},
   "source": [
    "with open(r'Z:\\vovam\\Vova\\data\\matrices\\8_25permut\\channels.txt') as f:\n",
    "    ch_list = f.read().split('\\n')\n",
    "newmetric = print_scores(permuted, ch_list,len(ch_list))[0]\n",
    "for i,name in enumerate(ch_list):\n",
    "    new_metric.loc[name,'Permuted'] = newmetric[i]\n",
    "    "
   ]
  },
  {
   "cell_type": "code",
   "execution_count": 11,
   "metadata": {
    "scrolled": true
   },
   "outputs": [],
   "source": [
    "scores_df\n",
    "scores_df.to_csv(r'C:\\Users\\vovam\\Desktop\\rotations\\Leeat Keren\\pictures and results\\3to7\\scores18_05_thirdtry.csv', index = True)"
   ]
  },
  {
   "cell_type": "code",
   "execution_count": 12,
   "metadata": {},
   "outputs": [
    {
     "data": {
      "text/html": [
       "<div>\n",
       "<style scoped>\n",
       "    .dataframe tbody tr th:only-of-type {\n",
       "        vertical-align: middle;\n",
       "    }\n",
       "\n",
       "    .dataframe tbody tr th {\n",
       "        vertical-align: top;\n",
       "    }\n",
       "\n",
       "    .dataframe thead th {\n",
       "        text-align: right;\n",
       "    }\n",
       "</style>\n",
       "<table border=\"1\" class=\"dataframe\">\n",
       "  <thead>\n",
       "    <tr style=\"text-align: right;\">\n",
       "      <th></th>\n",
       "      <th>F1</th>\n",
       "      <th>RMSE</th>\n",
       "      <th>FalsePos</th>\n",
       "      <th>FalseNeg</th>\n",
       "    </tr>\n",
       "  </thead>\n",
       "  <tbody>\n",
       "    <tr>\n",
       "      <th>dsDNA</th>\n",
       "      <td>0.731280</td>\n",
       "      <td>0.000420</td>\n",
       "      <td>0.003497</td>\n",
       "      <td>0.260534</td>\n",
       "    </tr>\n",
       "    <tr>\n",
       "      <th>HLA-DR</th>\n",
       "      <td>0.464714</td>\n",
       "      <td>0.000410</td>\n",
       "      <td>0.298926</td>\n",
       "      <td>0.053003</td>\n",
       "    </tr>\n",
       "    <tr>\n",
       "      <th>CD68</th>\n",
       "      <td>0.191955</td>\n",
       "      <td>0.000634</td>\n",
       "      <td>0.331455</td>\n",
       "      <td>0.038319</td>\n",
       "    </tr>\n",
       "    <tr>\n",
       "      <th>CD8</th>\n",
       "      <td>0.155391</td>\n",
       "      <td>0.000984</td>\n",
       "      <td>0.320229</td>\n",
       "      <td>0.012712</td>\n",
       "    </tr>\n",
       "    <tr>\n",
       "      <th>CD20</th>\n",
       "      <td>0.004974</td>\n",
       "      <td>0.006387</td>\n",
       "      <td>0.488014</td>\n",
       "      <td>0.000004</td>\n",
       "    </tr>\n",
       "    <tr>\n",
       "      <th>Pan-Keratin</th>\n",
       "      <td>0.270114</td>\n",
       "      <td>0.001051</td>\n",
       "      <td>0.467005</td>\n",
       "      <td>0.000006</td>\n",
       "    </tr>\n",
       "    <tr>\n",
       "      <th>Ki67</th>\n",
       "      <td>0.027416</td>\n",
       "      <td>0.004427</td>\n",
       "      <td>0.413410</td>\n",
       "      <td>0.000009</td>\n",
       "    </tr>\n",
       "  </tbody>\n",
       "</table>\n",
       "</div>"
      ],
      "text/plain": [
       "                   F1      RMSE  FalsePos  FalseNeg\n",
       "dsDNA        0.731280  0.000420  0.003497  0.260534\n",
       "HLA-DR       0.464714  0.000410  0.298926  0.053003\n",
       "CD68         0.191955  0.000634  0.331455  0.038319\n",
       "CD8          0.155391  0.000984  0.320229  0.012712\n",
       "CD20         0.004974  0.006387  0.488014  0.000004\n",
       "Pan-Keratin  0.270114  0.001051  0.467005  0.000006\n",
       "Ki67         0.027416  0.004427  0.413410  0.000009"
      ]
     },
     "execution_count": 12,
     "metadata": {},
     "output_type": "execute_result"
    }
   ],
   "source": [
    "scores_df"
   ]
  },
  {
   "cell_type": "raw",
   "metadata": {},
   "source": [
    "scores_df.loc[:,['FalsePosStndrt','FalseNegStndrt',\n",
    "                 'FalsePosNmat','FalseNegNmat','FlasePosPrmtd'\n",
    "                 ,'FlaseNegPrmtd']].plot.bar(figsize=(30, 10),subplots=True, layout=(3, 2),stacked = True)\n",
    "                                                                                    \n",
    "#plt.savefig('foo1.pdf', bbox_inches='tight')"
   ]
  },
  {
   "cell_type": "code",
   "execution_count": 13,
   "metadata": {},
   "outputs": [
    {
     "data": {
      "text/plain": [
       "<AxesSubplot:>"
      ]
     },
     "execution_count": 13,
     "metadata": {},
     "output_type": "execute_result"
    },
    {
     "data": {
      "image/png": "[encoded data removed]",
      "text/plain": [
       "<Figure size 2160x720 with 1 Axes>"
      ]
     },
     "metadata": {},
     "output_type": "display_data"
    }
   ],
   "source": [
    "scores_df.loc[:,['FalsePos','FalseNeg']].plot.box(figsize=(30, 10))"
   ]
  },
  {
   "cell_type": "code",
   "execution_count": 14,
   "metadata": {},
   "outputs": [
    {
     "data": {
      "text/plain": [
       "<BarContainer object of 7 artists>"
      ]
     },
     "execution_count": 14,
     "metadata": {},
     "output_type": "execute_result"
    },
    {
     "data": {
      "image/png": "[encoded data removed]",
      "text/plain": [
       "<Figure size 1728x720 with 1 Axes>"
      ]
     },
     "metadata": {},
     "output_type": "display_data"
    }
   ],
   "source": [
    "plt.figure(figsize=(24, 10))\n",
    "plt.bar(ch_list,scores[0][0]) #- scores[2][0] - scores[3][0])"
   ]
  },
  {
   "cell_type": "markdown",
   "metadata": {},
   "source": [
    "plt.figure(figsize=(24, 10))\n",
    "plt.bar(ch_list,scores_2[0][0] - scores_2[2][0] - scores_2[3][0])"
   ]
  },
  {
   "cell_type": "code",
   "execution_count": 15,
   "metadata": {},
   "outputs": [
    {
     "data": {
      "text/plain": [
       "<matplotlib.collections.PathCollection at 0x20e91173be0>"
      ]
     },
     "execution_count": 15,
     "metadata": {},
     "output_type": "execute_result"
    },
    {
     "data": {
      "image/png": "[encoded data removed]",
      "text/plain": [
       "<Figure size 432x288 with 1 Axes>"
      ]
     },
     "metadata": {},
     "output_type": "display_data"
    }
   ],
   "source": [
    "plt.scatter(range(1,8),sorted(list(scores[0][0]))) #- scores[2][0] - scores[3][0])))"
   ]
  },
  {
   "cell_type": "markdown",
   "metadata": {},
   "source": [
    "plt.scatter(range(1,26),sorted(list(scores_2[0][0] - scores_2[2][0] - scores_2[3][0])))"
   ]
  },
  {
   "cell_type": "code",
   "execution_count": 16,
   "metadata": {},
   "outputs": [
    {
     "name": "stdout",
     "output_type": "stream",
     "text": [
      "computed AUC using sklearn.metrics.auc: -0.881902962209651\n"
     ]
    }
   ],
   "source": [
    "from sklearn.metrics import auc\n",
    "ys = scores[0][0] - scores[2][0] - scores[3][0]\n",
    "print('computed AUC using sklearn.metrics.auc: {}'.format(auc(range(1,8),ys)))"
   ]
  },
  {
   "cell_type": "markdown",
   "metadata": {},
   "source": [
    "ys = scores_2[0][0] - scores_2[2][0] - scores_2[3][0]\n",
    "print('computed AUC using sklearn.metrics.auc: {}'.format(auc(range(1,26),ys)))"
   ]
  }
 ],
 "metadata": {
  "kernelspec": {
   "display_name": "Python 3",
   "language": "python",
   "name": "python3"
  },
  "language_info": {
   "codemirror_mode": {
    "name": "ipython",
    "version": 3
   },
   "file_extension": ".py",
   "mimetype": "text/x-python",
   "name": "python",
   "nbconvert_exporter": "python",
   "pygments_lexer": "ipython3",
   "version": "3.8.10"
  }
 },
 "nbformat": 4,
 "nbformat_minor": 1
}