{
 "cells": [
  {
   "cell_type": "code",
   "execution_count": 1,
   "id": "c0779a62",
   "metadata": {},
   "outputs": [],
   "source": [
    "import numpy as np\n",
    "import os\n",
    "import pandas as pd"
   ]
  },
  {
   "cell_type": "code",
   "execution_count": 2,
   "id": "78500690",
   "metadata": {},
   "outputs": [],
   "source": [
    "def mutual_coherence(A):\n",
    "    M = float('-inf')\n",
    "    for i in range(A.shape[1]):\n",
    "        for j in range(i + 1, A.shape[1]):\n",
    "            M = max(M, abs(np.dot(A[:, i].T, A[:, j])) / (np.linalg.norm(A[:, i]) * np.linalg.norm(A[:, j])))\n",
    "    return M"
   ]
  },
  {
   "cell_type": "code",
   "execution_count": 3,
   "id": "f953d88e",
   "metadata": {},
   "outputs": [],
   "source": [
    "def load_data(src):\n",
    "    channels_src = 'channels.txt'\n",
    "    with open(os.path.join(src, channels_src)) as f:\n",
    "        channels = f.read().splitlines()\n",
    "    mat = np.loadtxt(os.path.join(src, 'mat.txt')).astype(np.float32)\n",
    "    mat = (mat / np.linalg.norm(mat, ord=1, axis=0))\n",
    "    return mat, channels"
   ]
  },
  {
   "cell_type": "code",
   "execution_count": 4,
   "id": "9477558d",
   "metadata": {},
   "outputs": [
    {
     "data": {
      "text/plain": [
       "(3, 7)"
      ]
     },
     "execution_count": 4,
     "metadata": {},
     "output_type": "execute_result"
    }
   ],
   "source": [
    "mat = load_data(r'Z:\\vovam\\Vova\\data\\matrices\\3_7')\n",
    "mat[0].shape"
   ]
  },
  {
   "cell_type": "code",
   "execution_count": 5,
   "id": "c3fcf421",
   "metadata": {},
   "outputs": [
    {
     "data": {
      "text/plain": [
       "0.81649655"
      ]
     },
     "execution_count": 5,
     "metadata": {},
     "output_type": "execute_result"
    }
   ],
   "source": [
    "mutual_coherence(mat[0])"
   ]
  },
  {
   "cell_type": "code",
   "execution_count": 6,
   "id": "18e31d74",
   "metadata": {},
   "outputs": [],
   "source": [
    "with open(r'Z:\\vovam\\Vova\\data\\matrices\\3_7\\channels.txt') as f:\n",
    "    ch_list = f.read().split('\\n')\n",
    "df = pd.DataFrame(mat[0], columns = ch_list)"
   ]
  },
  {
   "cell_type": "code",
   "execution_count": 7,
   "id": "e9f886f4",
   "metadata": {
    "scrolled": true
   },
   "outputs": [
    {
     "data": {
      "text/html": [
       "<div>\n",
       "<style scoped>\n",
       "    .dataframe tbody tr th:only-of-type {\n",
       "        vertical-align: middle;\n",
       "    }\n",
       "\n",
       "    .dataframe tbody tr th {\n",
       "        vertical-align: top;\n",
       "    }\n",
       "\n",
       "    .dataframe thead th {\n",
       "        text-align: right;\n",
       "    }\n",
       "</style>\n",
       "<table border=\"1\" class=\"dataframe\">\n",
       "  <thead>\n",
       "    <tr style=\"text-align: right;\">\n",
       "      <th></th>\n",
       "      <th>dsDNA</th>\n",
       "      <th>HLA-DR</th>\n",
       "      <th>CD68</th>\n",
       "      <th>CD8</th>\n",
       "      <th>CD20</th>\n",
       "      <th>Pan-Keratin</th>\n",
       "      <th>Ki67</th>\n",
       "    </tr>\n",
       "  </thead>\n",
       "  <tbody>\n",
       "    <tr>\n",
       "      <th>0</th>\n",
       "      <td>0.333333</td>\n",
       "      <td>0.5</td>\n",
       "      <td>0.5</td>\n",
       "      <td>0.0</td>\n",
       "      <td>1.0</td>\n",
       "      <td>0.0</td>\n",
       "      <td>0.0</td>\n",
       "    </tr>\n",
       "    <tr>\n",
       "      <th>1</th>\n",
       "      <td>0.333333</td>\n",
       "      <td>0.5</td>\n",
       "      <td>0.0</td>\n",
       "      <td>0.5</td>\n",
       "      <td>0.0</td>\n",
       "      <td>1.0</td>\n",
       "      <td>0.0</td>\n",
       "    </tr>\n",
       "    <tr>\n",
       "      <th>2</th>\n",
       "      <td>0.333333</td>\n",
       "      <td>0.0</td>\n",
       "      <td>0.5</td>\n",
       "      <td>0.5</td>\n",
       "      <td>0.0</td>\n",
       "      <td>0.0</td>\n",
       "      <td>1.0</td>\n",
       "    </tr>\n",
       "  </tbody>\n",
       "</table>\n",
       "</div>"
      ],
      "text/plain": [
       "      dsDNA  HLA-DR  CD68  CD8  CD20  Pan-Keratin  Ki67\n",
       "0  0.333333     0.5   0.5  0.0   1.0          0.0   0.0\n",
       "1  0.333333     0.5   0.0  0.5   0.0          1.0   0.0\n",
       "2  0.333333     0.0   0.5  0.5   0.0          0.0   1.0"
      ]
     },
     "execution_count": 7,
     "metadata": {},
     "output_type": "execute_result"
    }
   ],
   "source": [
    "pd.set_option(\"display.max_columns\", 25)\n",
    "df"
   ]
  }
 ],
 "metadata": {
  "kernelspec": {
   "display_name": "Python 3",
   "language": "python",
   "name": "python3"
  },
  "language_info": {
   "codemirror_mode": {
    "name": "ipython",
    "version": 3
   },
   "file_extension": ".py",
   "mimetype": "text/x-python",
   "name": "python",
   "nbconvert_exporter": "python",
   "pygments_lexer": "ipython3",
   "version": "3.8.10"
  }
 },
 "nbformat": 4,
 "nbformat_minor": 5
}
