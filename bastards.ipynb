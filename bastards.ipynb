{
 "cells": [
  {
   "cell_type": "code",
   "execution_count": 1,
   "id": "b05be542",
   "metadata": {},
   "outputs": [],
   "source": [
    "import pandas as pd\n",
    "import numpy as np\n",
    "from sklearn.metrics import f1_score as f1\n",
    "import xarray as xr\n",
    "import os\n",
    "import skimage.io as io\n",
    "\n",
    "DIR = r'C:\\Users\\vovam\\Desktop\\rotations\\Leeat Keren\\training_metrics\\permut_experiments\\pictures'\n",
    "os.chdir(DIR)"
   ]
  },
  {
   "cell_type": "code",
   "execution_count": 4,
   "id": "93c333ba",
   "metadata": {},
   "outputs": [],
   "source": [
    "all_data = xr.load_dataarray(r'C:\\Users\\vovam\\Desktop\\rotations\\Leeat Keren\\data\\all_data.nc')"
   ]
  },
  {
   "cell_type": "code",
   "execution_count": 25,
   "id": "80b9a44d",
   "metadata": {},
   "outputs": [],
   "source": [
    "problems = ['standart_3_CD4.tif','standart_4_CD56.tif','standart_5_FoxP3.tif','standart_7_PD1.tif','standart_8_Ki67.tif'\n",
    "            , 'standart_9_CD209.tif','standart_15_CD20.tif','standart_20_CD11b.tif','standart_23_MPO.tif'\n",
    "            , 'permuted_6_CD56.tif', 'permuted_8_FoxP3.tif','permuted_10_CD31.tif','permuted_4_PD1.tif'\n",
    "            , 'permuted_7_Ki67.tif','permuted_0_CD11c.tif','permuted_23_CD3.tif','permuted_13_CD20.tif','permuted_5_MPO.tif']"
   ]
  },
  {
   "cell_type": "code",
   "execution_count": 27,
   "id": "9f1cdd5e",
   "metadata": {},
   "outputs": [],
   "source": [
    "def get_bastard(all_data, image_name,chlist):\n",
    "    \n",
    "    im = io.imread(image_name)\n",
    "    im = np.array(im).flatten()\n",
    "    im = im.clip(min=0)\n",
    "    im = np.rint(im)\n",
    "    channels = all_data.channels.values\n",
    "    highestf1 = []\n",
    "    \n",
    "    for i,chname in enumerate(chlist):\n",
    "        true_data = all_data.sel(fovs='Point5', channels = chname)\n",
    "        true_data = true_data.values.squeeze().flatten()\n",
    "        binary_true = 1 * (true_data > 0)\n",
    "        binary_hat = 1 *(im > 0)\n",
    "        f1score = f1(binary_true,binary_hat)\n",
    "\n",
    "        if f1score > 0.3:\n",
    "            highestf1.append((f1score,chname))\n",
    "    return(highestf1)"
   ]
  },
  {
   "cell_type": "code",
   "execution_count": 28,
   "id": "3489637e",
   "metadata": {},
   "outputs": [
    {
     "name": "stdout",
     "output_type": "stream",
     "text": [
      "standartCD4.tif \n",
      " [(0.30309799723864045, 'CD4'), (0.5958354070278274, 'CD16'), (0.35810534763922003, 'HLA-DR'), (0.31483099704120765, 'CD45')]\n",
      "standartCD56.tif \n",
      " []\n",
      "standartFoxP3.tif \n",
      " []\n",
      "standartPD1.tif \n",
      " [(0.4721846899315101, 'CD8'), (0.39080582423138394, 'CD3'), (0.37082527993002445, 'CD45'), (0.3721544009616669, 'CD45RO')]\n",
      "standartKi67.tif \n",
      " [(0.3968399407907516, 'Vimentin'), (0.3194760228518668, 'CD11c'), (0.3029308922561938, 'CD16'), (0.4066286315831968, 'HLA-DR'), (0.3833681157468962, 'CD45')]\n",
      "standartCD209.tif \n",
      " [(0.43938561603199366, 'CD16')]\n",
      "standartCD20.tif \n",
      " []\n",
      "standartCD11b.tif \n",
      " []\n",
      "standartMPO.tif \n",
      " [(0.3035090773439443, 'Vimentin'), (0.3143636089230305, 'CD8'), (0.33671369797902106, 'CD16'), (0.5206202498184893, 'HLA-DR'), (0.5219313895567529, 'CD45'), (0.32514985617084424, 'CD45RO'), (0.3341376428159934, 'HLA_Class_1')]\n",
      "permutedCD56.tif \n",
      " [(0.3086656487103914, 'CD8')]\n",
      "permutedFoxP3.tif \n",
      " [(0.31220223301905514, 'CD11c'), (0.36239627328692386, 'CD45'), (0.34979718272295934, 'CD45RO')]\n",
      "permutedCD31.tif \n",
      " [(0.305669507821204, 'CD68'), (0.43379681672054954, 'CD11c'), (0.37893203509421725, 'CD16'), (0.5341559477396032, 'HLA-DR'), (0.40578438706546377, 'CD45')]\n",
      "permutedPD1.tif \n",
      " [(0.31804701441758354, 'HLA-DR'), (0.3004759345548432, 'CD45RO')]\n",
      "permutedKi67.tif \n",
      " [(0.3298812870377136, 'Vimentin'), (0.3570136605742038, 'CD11c'), (0.41408725546010205, 'CD45RO')]\n",
      "permutedCD11c.tif \n",
      " [(0.4162252713067322, 'Vimentin'), (0.6915901873780849, 'CD11c'), (0.3236900733556414, 'CD16'), (0.4362105560038043, 'HLA-DR'), (0.429859029730888, 'CD45'), (0.37435162376583214, 'CD45RO')]\n",
      "permutedCD3.tif \n",
      " []\n",
      "permutedCD20.tif \n",
      " [(0.4775350822369299, 'CD11c'), (0.4177637541919696, 'CD16'), (0.36125987628808925, 'HLA-DR'), (0.42829850663251073, 'CD45'), (0.3852192018698204, 'CD45RO')]\n",
      "permutedMPO.tif \n",
      " [(0.3328475642773445, 'CD16')]\n"
     ]
    }
   ],
   "source": [
    "with open(r'Z:\\vovam\\Vova\\data\\matrices\\8_25\\channels.txt') as f:\n",
    "    ch_list = f.read().split('\\n')\n",
    "\n",
    "for problem in problems:\n",
    "    name = problem.split('_')[0] + problem.split('_')[2]\n",
    "    print(name,'\\n',get_bastard(all_data, problem,ch_list))"
   ]
  },
  {
   "cell_type": "code",
   "execution_count": null,
   "id": "8723085d",
   "metadata": {},
   "outputs": [],
   "source": []
  }
 ],
 "metadata": {
  "kernelspec": {
   "display_name": "Python 3",
   "language": "python",
   "name": "python3"
  },
  "language_info": {
   "codemirror_mode": {
    "name": "ipython",
    "version": 3
   },
   "file_extension": ".py",
   "mimetype": "text/x-python",
   "name": "python",
   "nbconvert_exporter": "python",
   "pygments_lexer": "ipython3",
   "version": "3.8.10"
  }
 },
 "nbformat": 4,
 "nbformat_minor": 5
}
