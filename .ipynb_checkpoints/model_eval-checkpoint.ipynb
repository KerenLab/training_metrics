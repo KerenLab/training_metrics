{
 "cells": [
  {
   "cell_type": "code",
   "execution_count": 1,
   "metadata": {},
   "outputs": [],
   "source": [
    "from sklearn.metrics import f1_score as f1\n",
    "from sklearn.metrics import mean_squared_error as mse\n",
    "from sklearn.metrics import auc\n",
    "import skimage.io as io\n",
    "import pandas as pd\n",
    "import scipy.stats as stats\n",
    "import scipy as sp\n",
    "from scipy import ndimage\n",
    "import os\n",
    "import sys\n",
    "from sklearn.metrics import mean_squared_log_error\n",
    "import numpy as np\n",
    "import pandas as pd\n",
    "import tensorflow\n",
    "import xarray as xr\n",
    "import seaborn as sns\n",
    "from unet import UNet\n",
    "import torch\n",
    "import os\n",
    "import torch.nn as nn\n",
    "import torch.nn.functional as F\n",
    "from torch import optim\n",
    "import matplotlib.pyplot as plt\n",
    "sns.set()"
   ]
  },
  {
   "cell_type": "code",
   "execution_count": 2,
   "metadata": {},
   "outputs": [],
   "source": [
    "def load_data(src):\n",
    "    channels_src = 'channels.txt'\n",
    "    with open(os.path.join(src, channels_src)) as f:\n",
    "        channels = f.read().splitlines()\n",
    "\n",
    "    mat = np.loadtxt(os.path.join(src, 'mat.txt')).astype(np.float32)\n",
    "    mat = (mat / np.linalg.norm(mat, ord=1, axis=0))\n",
    "    return mat, channels"
   ]
  },
  {
   "cell_type": "code",
   "execution_count": 11,
   "metadata": {},
   "outputs": [
    {
     "data": {
      "text/plain": [
       "UNet(\n",
       "  (inc): DoubleConv(\n",
       "    (double_conv): Sequential(\n",
       "      (0): Conv2d(8, 64, kernel_size=(3, 3), stride=(1, 1), padding=(1, 1))\n",
       "      (1): BatchNorm2d(64, eps=1e-05, momentum=0.1, affine=True, track_running_stats=True)\n",
       "      (2): ReLU(inplace=True)\n",
       "      (3): Conv2d(64, 64, kernel_size=(3, 3), stride=(1, 1), padding=(1, 1))\n",
       "      (4): BatchNorm2d(64, eps=1e-05, momentum=0.1, affine=True, track_running_stats=True)\n",
       "      (5): ReLU(inplace=True)\n",
       "    )\n",
       "  )\n",
       "  (down1): Down(\n",
       "    (maxpool_conv): Sequential(\n",
       "      (0): MaxPool2d(kernel_size=2, stride=2, padding=0, dilation=1, ceil_mode=False)\n",
       "      (1): DoubleConv(\n",
       "        (double_conv): Sequential(\n",
       "          (0): Conv2d(64, 128, kernel_size=(3, 3), stride=(1, 1), padding=(1, 1))\n",
       "          (1): BatchNorm2d(128, eps=1e-05, momentum=0.1, affine=True, track_running_stats=True)\n",
       "          (2): ReLU(inplace=True)\n",
       "          (3): Conv2d(128, 128, kernel_size=(3, 3), stride=(1, 1), padding=(1, 1))\n",
       "          (4): BatchNorm2d(128, eps=1e-05, momentum=0.1, affine=True, track_running_stats=True)\n",
       "          (5): ReLU(inplace=True)\n",
       "        )\n",
       "      )\n",
       "    )\n",
       "  )\n",
       "  (down2): Down(\n",
       "    (maxpool_conv): Sequential(\n",
       "      (0): MaxPool2d(kernel_size=2, stride=2, padding=0, dilation=1, ceil_mode=False)\n",
       "      (1): DoubleConv(\n",
       "        (double_conv): Sequential(\n",
       "          (0): Conv2d(128, 256, kernel_size=(3, 3), stride=(1, 1), padding=(1, 1))\n",
       "          (1): BatchNorm2d(256, eps=1e-05, momentum=0.1, affine=True, track_running_stats=True)\n",
       "          (2): ReLU(inplace=True)\n",
       "          (3): Conv2d(256, 256, kernel_size=(3, 3), stride=(1, 1), padding=(1, 1))\n",
       "          (4): BatchNorm2d(256, eps=1e-05, momentum=0.1, affine=True, track_running_stats=True)\n",
       "          (5): ReLU(inplace=True)\n",
       "        )\n",
       "      )\n",
       "    )\n",
       "  )\n",
       "  (down3): Down(\n",
       "    (maxpool_conv): Sequential(\n",
       "      (0): MaxPool2d(kernel_size=2, stride=2, padding=0, dilation=1, ceil_mode=False)\n",
       "      (1): DoubleConv(\n",
       "        (double_conv): Sequential(\n",
       "          (0): Conv2d(256, 512, kernel_size=(3, 3), stride=(1, 1), padding=(1, 1))\n",
       "          (1): BatchNorm2d(512, eps=1e-05, momentum=0.1, affine=True, track_running_stats=True)\n",
       "          (2): ReLU(inplace=True)\n",
       "          (3): Conv2d(512, 512, kernel_size=(3, 3), stride=(1, 1), padding=(1, 1))\n",
       "          (4): BatchNorm2d(512, eps=1e-05, momentum=0.1, affine=True, track_running_stats=True)\n",
       "          (5): ReLU(inplace=True)\n",
       "        )\n",
       "      )\n",
       "    )\n",
       "  )\n",
       "  (down4): Down(\n",
       "    (maxpool_conv): Sequential(\n",
       "      (0): MaxPool2d(kernel_size=2, stride=2, padding=0, dilation=1, ceil_mode=False)\n",
       "      (1): DoubleConv(\n",
       "        (double_conv): Sequential(\n",
       "          (0): Conv2d(512, 512, kernel_size=(3, 3), stride=(1, 1), padding=(1, 1))\n",
       "          (1): BatchNorm2d(512, eps=1e-05, momentum=0.1, affine=True, track_running_stats=True)\n",
       "          (2): ReLU(inplace=True)\n",
       "          (3): Conv2d(512, 512, kernel_size=(3, 3), stride=(1, 1), padding=(1, 1))\n",
       "          (4): BatchNorm2d(512, eps=1e-05, momentum=0.1, affine=True, track_running_stats=True)\n",
       "          (5): ReLU(inplace=True)\n",
       "        )\n",
       "      )\n",
       "    )\n",
       "  )\n",
       "  (up1): Up(\n",
       "    (up): Upsample(scale_factor=2.0, mode=bilinear)\n",
       "    (conv): DoubleConv(\n",
       "      (double_conv): Sequential(\n",
       "        (0): Conv2d(1024, 512, kernel_size=(3, 3), stride=(1, 1), padding=(1, 1))\n",
       "        (1): BatchNorm2d(512, eps=1e-05, momentum=0.1, affine=True, track_running_stats=True)\n",
       "        (2): ReLU(inplace=True)\n",
       "        (3): Conv2d(512, 256, kernel_size=(3, 3), stride=(1, 1), padding=(1, 1))\n",
       "        (4): BatchNorm2d(256, eps=1e-05, momentum=0.1, affine=True, track_running_stats=True)\n",
       "        (5): ReLU(inplace=True)\n",
       "      )\n",
       "    )\n",
       "  )\n",
       "  (up2): Up(\n",
       "    (up): Upsample(scale_factor=2.0, mode=bilinear)\n",
       "    (conv): DoubleConv(\n",
       "      (double_conv): Sequential(\n",
       "        (0): Conv2d(512, 256, kernel_size=(3, 3), stride=(1, 1), padding=(1, 1))\n",
       "        (1): BatchNorm2d(256, eps=1e-05, momentum=0.1, affine=True, track_running_stats=True)\n",
       "        (2): ReLU(inplace=True)\n",
       "        (3): Conv2d(256, 128, kernel_size=(3, 3), stride=(1, 1), padding=(1, 1))\n",
       "        (4): BatchNorm2d(128, eps=1e-05, momentum=0.1, affine=True, track_running_stats=True)\n",
       "        (5): ReLU(inplace=True)\n",
       "      )\n",
       "    )\n",
       "  )\n",
       "  (up3): Up(\n",
       "    (up): Upsample(scale_factor=2.0, mode=bilinear)\n",
       "    (conv): DoubleConv(\n",
       "      (double_conv): Sequential(\n",
       "        (0): Conv2d(256, 128, kernel_size=(3, 3), stride=(1, 1), padding=(1, 1))\n",
       "        (1): BatchNorm2d(128, eps=1e-05, momentum=0.1, affine=True, track_running_stats=True)\n",
       "        (2): ReLU(inplace=True)\n",
       "        (3): Conv2d(128, 64, kernel_size=(3, 3), stride=(1, 1), padding=(1, 1))\n",
       "        (4): BatchNorm2d(64, eps=1e-05, momentum=0.1, affine=True, track_running_stats=True)\n",
       "        (5): ReLU(inplace=True)\n",
       "      )\n",
       "    )\n",
       "  )\n",
       "  (up4): Up(\n",
       "    (up): Upsample(scale_factor=2.0, mode=bilinear)\n",
       "    (conv): DoubleConv(\n",
       "      (double_conv): Sequential(\n",
       "        (0): Conv2d(128, 64, kernel_size=(3, 3), stride=(1, 1), padding=(1, 1))\n",
       "        (1): BatchNorm2d(64, eps=1e-05, momentum=0.1, affine=True, track_running_stats=True)\n",
       "        (2): ReLU(inplace=True)\n",
       "        (3): Conv2d(64, 64, kernel_size=(3, 3), stride=(1, 1), padding=(1, 1))\n",
       "        (4): BatchNorm2d(64, eps=1e-05, momentum=0.1, affine=True, track_running_stats=True)\n",
       "        (5): ReLU(inplace=True)\n",
       "      )\n",
       "    )\n",
       "  )\n",
       "  (outc): OutConv(\n",
       "    (conv): Conv2d(64, 25, kernel_size=(1, 1), stride=(1, 1))\n",
       "  )\n",
       "  (classification): Conv2d(25, 25, kernel_size=(1, 1), stride=(1, 1))\n",
       "  (regression): Conv2d(25, 25, kernel_size=(1, 1), stride=(1, 1))\n",
       ")"
      ]
     },
     "execution_count": 11,
     "metadata": {},
     "output_type": "execute_result"
    }
   ],
   "source": [
    "model = UNet(in_channels=8, out_channels=25)\n",
    "device = 'cpu'\n",
    "\n",
    "resume_path = r'Z:\\vovam\\Vova\\outputs\\2021-05-31\\17-21-19\\x_hat\\cp.pt'\n",
    "\n",
    "checkpoint = torch.load(resume_path, map_location='cpu')  # , map_location=lambda storage, loc: storage)\n",
    "\n",
    "model.load_state_dict(checkpoint[\"model\"])\n",
    "\n",
    "optimizer = optim.Adam(model.parameters(), lr=0.0001)\n",
    "optimizer.load_state_dict(checkpoint[\"optimizer\"])\n",
    "\n",
    "model.eval()"
   ]
  },
  {
   "cell_type": "code",
   "execution_count": 4,
   "metadata": {},
   "outputs": [],
   "source": [
    "src = r'Z:\\vovam\\Vova\\data\\matrices\\8_25'\n",
    "mat, channels = load_data(src)"
   ]
  },
  {
   "cell_type": "code",
   "execution_count": 5,
   "metadata": {},
   "outputs": [],
   "source": [
    "x = xr.load_dataarray(r'C:\\Users\\leeatgen.WISMAIN\\Desktop\\Vova\\all_data.nc').sel(fovs='Point5', channels=channels).values.astype(np.float32)"
   ]
  },
  {
   "cell_type": "code",
   "execution_count": 12,
   "metadata": {},
   "outputs": [],
   "source": [
    "A = torch.tensor(mat, requires_grad=False).unsqueeze(-1).unsqueeze(-1).float().to(device)\n",
    "X = torch.tensor(x.astype(np.float32), requires_grad=False).to(device)\n",
    "if X.ndim != 4:\n",
    "    X = X.reshape((1, *X.shape))\n",
    "Y = F.conv2d(X, A).to(device)"
   ]
  },
  {
   "cell_type": "code",
   "execution_count": 13,
   "metadata": {},
   "outputs": [],
   "source": [
    "y = Y[:,:,768:1280,768:1280]\n",
    "_, x_hat = model(y)"
   ]
  },
  {
   "cell_type": "code",
   "execution_count": 8,
   "metadata": {},
   "outputs": [],
   "source": [
    "def get_scores(p_true, p_hat, point_name, channels):\n",
    "    ch_range = len(channels)\n",
    "    f1scores = np.zeros([1, ch_range])\n",
    "    rmsescores = np.zeros([1, ch_range])\n",
    "    falsepositive = np.zeros([1, ch_range])\n",
    "    falsenegative = np.zeros([1, ch_range])\n",
    "    rmsle = np.zeros([1, ch_range])\n",
    "\n",
    "    for i, chname in enumerate(channels):\n",
    "        #true_data = p_true.sel(fovs=[point_name], channels=chname)\n",
    "        true_data = p_true[i, 768:1280, 768:1280].squeeze().flatten()  # delete when you check full size pics and not crops\n",
    "       \n",
    "\n",
    "        hat_data = p_hat[i, :, :].squeeze().flatten()\n",
    "        hat_data = np.rint(hat_data)\n",
    "        hat_data = hat_data.clip(min=0)\n",
    "\n",
    "        binary_true = 1 * (true_data > 0)\n",
    "        binary_hat = 1 * (hat_data > 0)\n",
    "\n",
    "        falsepositive[0, i] = sum((binary_hat - binary_true) == 1) / len(binary_hat)\n",
    "        falsenegative[0, i] = sum((binary_hat - binary_true) == -1) / len(binary_hat)\n",
    "        # f1scores[0, i] = f1(binary_true, binary_hat)\n",
    "        f1scores[0, i] = 2 * (binary_true * binary_hat).sum() / (binary_true.sum() + binary_hat.sum())\n",
    "        rmsescores[0, i] = mse(true_data, hat_data, squared=False) / np.linalg.norm(true_data, ord=None, axis=None,\n",
    "                                                                                    keepdims=False)\n",
    "        rmsle[0, i] = mean_squared_log_error(true_data, hat_data)\n",
    "\n",
    "    return f1scores, rmsescores, falsepositive, falsenegative, rmsle\n",
    "\n",
    "\n",
    "def save_pics(data, prefix, channels, path):\n",
    "    for i, chname in enumerate(channels):\n",
    "        pic_data = data[i, :, :].squeeze().flatten()\n",
    "        pic_data = np.rint(pic_data)\n",
    "        pic_data = pic_data.clip(min=0)\n",
    "        pic_name = '{}_00{}_{}.tif'.format(prefix, i, chname)\n",
    "        # change here accordingly to the dimensions of your crop\n",
    "        io.imsave(os.path.join(path, pic_name), pic_data.reshape((512, 512)), check_contrast=False)\n",
    "\n",
    "def combine_everyting(p_true, p_dat, channels, path, pics=True):\n",
    "\n",
    "    if pics:\n",
    "        pic_path = os.path.join(path, 'pictures')\n",
    "        if not os.path.isdir(pic_path):\n",
    "            os.mkdir(pic_path)\n",
    "            print('Directory for pics is created')\n",
    "        else:\n",
    "            print('There is a directory for pics')\n",
    "        # os.mkdir(pic_path)\n",
    "        # print('Directory for pics is created')\n",
    "        save_pics(p_dat, 'aug', channels, pic_path)\n",
    "\n",
    "    scores = get_scores(p_true, p_dat, 'Point5', channels)\n",
    "    scores_df = pd.DataFrame(\n",
    "        {'F1': scores[0][0], 'RMSE': scores[1][0], 'RMSLE': scores[4][0], 'FalsePos': scores[2][0],\n",
    "         'FalseNeg': scores[3][0]}, index=channels)\n",
    "    scores_df.to_csv(os.path.join(path, 'scores.csv'), index=True)\n",
    "\n",
    "    f = plt.figure()\n",
    "    f.set_figheight(20)\n",
    "    f.set_figwidth(30)\n",
    "    ax = f.add_subplot(311)\n",
    "    ax2 = f.add_subplot(312)\n",
    "    ax3 = f.add_subplot(313)\n",
    "\n",
    "    scores_df.loc[:, ['FalsePos', 'FalseNeg']].plot.box(ax=ax3)\n",
    "\n",
    "    ax.bar(channels, scores[0][0])\n",
    "\n",
    "    ax2.scatter(range(1, 26), sorted(list(scores[0][0])))\n",
    "    ax2.set_xlabel('Channels in f1 ascending order')\n",
    "    ax2.set_ylabel('F1 score')\n",
    "    ys = scores[0][0]\n",
    "    ax2.set_title('computed AUC using sklearn.metrics.auc: {}'.format(auc(range(1, 26), ys)))\n",
    "\n",
    "    f.savefig(os.path.join(path, 'plots.pdf'))"
   ]
  },
  {
   "cell_type": "code",
   "execution_count": 14,
   "metadata": {
    "scrolled": true
   },
   "outputs": [
    {
     "name": "stdout",
     "output_type": "stream",
     "text": [
      "Directory for pics is created\n"
     ]
    },
    {
     "data": {
      "image/png": "[encoded data removed]",
      "text/plain": [
       "<Figure size 2160x1440 with 3 Axes>"
      ]
     },
     "metadata": {},
     "output_type": "display_data"
    }
   ],
   "source": [
    "path =r'C:\\Users\\leeatgen.WISMAIN\\Desktop\\Vova\\Leeat Keren\\8_25epxeriments\\dip experiments\\augumentations\\rotations and crops from crop'\n",
    "hat = x_hat.detach().numpy().squeeze()\n",
    "\n",
    "combine_everyting(x, hat, channels, path)"
   ]
  },
  {
   "cell_type": "code",
   "execution_count": 27,
   "metadata": {},
   "outputs": [],
   "source": [
    "Y = F.conv2d(X, A).to(device)\n",
    "Y = Y[:,:,768:1280,768:1280]\n",
    "Y = Y.detach().numpy().squeeze()\n",
    "\n",
    "path = r'C:\\Users\\leeatgen.WISMAIN\\Desktop\\Vova\\Leeat Keren\\8_25epxeriments\\dip experiments\\augumentations\\pictures of y'\n",
    "save_pics(Y, 'y_true', ch, path)"
   ]
  },
  {
   "cell_type": "code",
   "execution_count": 21,
   "metadata": {},
   "outputs": [
    {
     "data": {
      "text/plain": [
       "['0', '1', '2', '3', '4', '5', '6', '7']"
      ]
     },
     "execution_count": 21,
     "metadata": {},
     "output_type": "execute_result"
    }
   ],
   "source": [
    "ch = [str(i) for i in range(8)]\n",
    "ch"
   ]
  }
 ],
 "metadata": {
  "kernelspec": {
   "display_name": "Python 3",
   "language": "python",
   "name": "python3"
  },
  "language_info": {
   "codemirror_mode": {
    "name": "ipython",
    "version": 3
   },
   "file_extension": ".py",
   "mimetype": "text/x-python",
   "name": "python",
   "nbconvert_exporter": "python",
   "pygments_lexer": "ipython3",
   "version": "3.9.4"
  }
 },
 "nbformat": 4,
 "nbformat_minor": 4
}
