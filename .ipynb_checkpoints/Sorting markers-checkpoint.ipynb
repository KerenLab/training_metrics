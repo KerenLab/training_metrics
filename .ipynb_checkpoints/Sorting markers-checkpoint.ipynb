{
 "cells": [
  {
   "cell_type": "code",
   "execution_count": 1,
   "id": "5f532b66",
   "metadata": {},
   "outputs": [],
   "source": [
    "import os\n",
    "import numpy as np\n",
    "import pandas as pd\n",
    "from collections import Counter\n",
    "import matplotlib.pyplot as plt"
   ]
  },
  {
   "cell_type": "code",
   "execution_count": 2,
   "id": "9a4b43f3",
   "metadata": {},
   "outputs": [],
   "source": [
    "markers_df = pd.read_csv(r'C:\\Users\\vovam\\Desktop\\rotations\\Leeat Keren\\markers and datasets\\markers_array.csv')"
   ]
  },
  {
   "cell_type": "code",
   "execution_count": 3,
   "id": "6bc22a61",
   "metadata": {},
   "outputs": [],
   "source": [
    "markers_names = markers_df.loc[:,'Name']"
   ]
  },
  {
   "cell_type": "code",
   "execution_count": 4,
   "id": "e7dc0267",
   "metadata": {},
   "outputs": [],
   "source": [
    "markers_dict = Counter(markers_names)"
   ]
  },
  {
   "cell_type": "code",
   "execution_count": 5,
   "id": "4f44bd1f",
   "metadata": {},
   "outputs": [],
   "source": [
    "sorted_markers = dict(sorted(markers_dict.items(), key=lambda item: item[1], reverse = True))"
   ]
  },
  {
   "cell_type": "code",
   "execution_count": 6,
   "id": "75b965fd",
   "metadata": {},
   "outputs": [],
   "source": [
    "top40 = dict()\n",
    "i = 0\n",
    "for key,value in sorted_markers.items():\n",
    "    if i == 40:\n",
    "        break\n",
    "    top40[key] = value\n",
    "    i+=1"
   ]
  },
  {
   "cell_type": "code",
   "execution_count": null,
   "id": "856f30d8",
   "metadata": {},
   "outputs": [],
   "source": [
    "import seaborn as sns\n",
    "sns.set()\n",
    "plt.figure(figsize = (40,10))\n",
    "plt.bar(top40.keys(), top40.values())"
   ]
  }
 ],
 "metadata": {
  "kernelspec": {
   "display_name": "Python 3",
   "language": "python",
   "name": "python3"
  },
  "language_info": {
   "codemirror_mode": {
    "name": "ipython",
    "version": 3
   },
   "file_extension": ".py",
   "mimetype": "text/x-python",
   "name": "python",
   "nbconvert_exporter": "python",
   "pygments_lexer": "ipython3",
   "version": "3.8.10"
  }
 },
 "nbformat": 4,
 "nbformat_minor": 5
}
