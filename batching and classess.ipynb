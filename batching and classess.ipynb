{
 "cells": [
  {
   "cell_type": "code",
   "execution_count": 1,
   "id": "a57d4ddf",
   "metadata": {},
   "outputs": [],
   "source": [
    "import torch\n",
    "import torchvision.transforms as T\n",
    "from torch.utils.data import Dataset, DataLoader\n",
    "import os \n",
    "import xarray as xr\n",
    "import numpy as np\n",
    "import matplotlib.pyplot as plt\n",
    "plt.rcParams[\"axes.grid\"] = False\n",
    "import torch.nn.functional as F\n",
    "import torchvision.utils as utils"
   ]
  },
  {
   "cell_type": "code",
   "execution_count": 2,
   "id": "b9d613dc",
   "metadata": {},
   "outputs": [],
   "source": [
    "def load_data(src):\n",
    "    channels_src = 'channels.txt'\n",
    "    with open(os.path.join(src, channels_src)) as f:\n",
    "        channels = f.read().splitlines()\n",
    "\n",
    "    mat = np.loadtxt(os.path.join(src, 'mat.txt')).astype(np.float32)\n",
    "    mat = (mat / np.linalg.norm(mat, ord=1, axis=0))\n",
    "    return mat, channels\n",
    "src = r'Z:\\vovam\\Vova\\data\\matrices\\8_25'\n",
    "mat, channels = load_data(src)\n",
    "x = xr.load_dataarray(r'C:\\Users\\leeatgen.WISMAIN\\Desktop\\Vova\\all_data.nc').sel(fovs='Point5',channels=channels).values.astype(np.float32)"
   ]
  },
  {
   "cell_type": "code",
   "execution_count": 3,
   "id": "26e3e471",
   "metadata": {},
   "outputs": [
    {
     "ename": "NameError",
     "evalue": "name 'x' is not defined",
     "output_type": "error",
     "traceback": [
      "\u001b[1;31m---------------------------------------------------------------------------\u001b[0m",
      "\u001b[1;31mNameError\u001b[0m                                 Traceback (most recent call last)",
      "\u001b[1;32m<ipython-input-3-b21e06b477e7>\u001b[0m in \u001b[0;36m<module>\u001b[1;34m\u001b[0m\n\u001b[1;32m----> 1\u001b[1;33m \u001b[0mprint\u001b[0m\u001b[1;33m(\u001b[0m\u001b[0mx\u001b[0m\u001b[1;33m.\u001b[0m\u001b[0mndim\u001b[0m\u001b[1;33m)\u001b[0m\u001b[1;33m\u001b[0m\u001b[1;33m\u001b[0m\u001b[0m\n\u001b[0m\u001b[0;32m      2\u001b[0m \u001b[1;32mif\u001b[0m \u001b[0mx\u001b[0m\u001b[1;33m.\u001b[0m\u001b[0mndim\u001b[0m \u001b[1;33m!=\u001b[0m \u001b[1;36m4\u001b[0m\u001b[1;33m:\u001b[0m\u001b[1;33m\u001b[0m\u001b[1;33m\u001b[0m\u001b[0m\n\u001b[0;32m      3\u001b[0m     \u001b[0mprint\u001b[0m\u001b[1;33m(\u001b[0m\u001b[0mx\u001b[0m\u001b[1;33m.\u001b[0m\u001b[0mndim\u001b[0m\u001b[1;33m)\u001b[0m\u001b[1;33m\u001b[0m\u001b[1;33m\u001b[0m\u001b[0m\n\u001b[0;32m      4\u001b[0m     \u001b[0mx\u001b[0m \u001b[1;33m=\u001b[0m \u001b[0mx\u001b[0m\u001b[1;33m.\u001b[0m\u001b[0mreshape\u001b[0m\u001b[1;33m(\u001b[0m\u001b[1;33m(\u001b[0m\u001b[1;36m1\u001b[0m\u001b[1;33m,\u001b[0m \u001b[1;33m*\u001b[0m\u001b[0mx\u001b[0m\u001b[1;33m.\u001b[0m\u001b[0mshape\u001b[0m\u001b[1;33m)\u001b[0m\u001b[1;33m)\u001b[0m\u001b[1;33m\u001b[0m\u001b[1;33m\u001b[0m\u001b[0m\n",
      "\u001b[1;31mNameError\u001b[0m: name 'x' is not defined"
     ]
    }
   ],
   "source": [
    "print(x.ndim)\n",
    "if x.ndim != 4:\n",
    "    print(x.ndim)\n",
    "    x = x.reshape((1, *x.shape))"
   ]
  },
  {
   "cell_type": "code",
   "execution_count": null,
   "id": "58229885",
   "metadata": {},
   "outputs": [],
   "source": [
    "seed = np.random.randint(1,1000000000)\n",
    "torch.manual_seed(seed)\n",
    "X = torch.tensor(x.astype(np.float32), requires_grad=False)\n",
    "print(X.shape)\n",
    "plt.imshow(X[0,0,:,:])"
   ]
  },
  {
   "cell_type": "code",
   "execution_count": 4,
   "id": "95e69da5",
   "metadata": {},
   "outputs": [],
   "source": [
    "A = torch.tensor(mat, requires_grad=False).unsqueeze(-1).unsqueeze(-1).float()\n",
    "X = torch.tensor(x.astype(np.float32), requires_grad=False)"
   ]
  },
  {
   "cell_type": "markdown",
   "id": "6621f770",
   "metadata": {},
   "source": [
    "## To-do list-\n",
    "\n",
    "[x] - Make for loop for batching\n",
    "\n",
    "[X] - check about class for the transformations"
   ]
  },
  {
   "cell_type": "code",
   "execution_count": null,
   "id": "7b2c3ace",
   "metadata": {},
   "outputs": [],
   "source": [
    "class CancerDataset(Dataset):\n",
    "    def __init__(self, data, batch_size, random_crop, initial_transform=None):\n",
    "        super().__init__()\n",
    "        if initial_transform:\n",
    "            self.data = initial_transform(data)\n",
    "        else:\n",
    "            self.data = data\n",
    "            \n",
    "        self.batch_size = batch_size    \n",
    "        self.random_crop = random_crop\n",
    "        self.transform = T.Compose([\n",
    "    T.RandomHorizontalFlip(p=0.5),\n",
    "    T.RandomRotation(30),\n",
    "    T.RandomPerspective(),\n",
    "    T.RandomCrop(size=random_crop),\n",
    "    T.RandomAffine(degrees=0, translate=(0.1, 0.1)),\n",
    "    T.RandomErasing(p=0.1, scale=(0.02, 0.1), ratio=(0.01, 1), value=0, inplace=False)\n",
    "])\n",
    "    def __len__(self):\n",
    "        return(len(self.data))\n",
    "\n",
    "    def fetch(self):\n",
    "        batch = []\n",
    "        for _ in range(self.batch_size):\n",
    "            fov = np.random.randint(self.data.shape[0])\n",
    "            batch.append(self.transform(self.data[fov]))\n",
    "        return torch.stack(batch)"
   ]
  },
  {
   "cell_type": "code",
   "execution_count": null,
   "id": "9c537f38",
   "metadata": {},
   "outputs": [],
   "source": [
    "center_crop = 512\n",
    "take_crop = T.Compose([T.CenterCrop(center_crop)])\n",
    "\n",
    "ds = CancerDataset(X,8,256,take_crop)\n",
    "#Y = F.conv2d(ds, A)"
   ]
  },
  {
   "cell_type": "code",
   "execution_count": null,
   "id": "22e9a212",
   "metadata": {},
   "outputs": [],
   "source": [
    "XX = ds.fetch()"
   ]
  },
  {
   "cell_type": "code",
   "execution_count": null,
   "id": "0c9e9241",
   "metadata": {},
   "outputs": [],
   "source": [
    "asd = take_crop(X)"
   ]
  },
  {
   "cell_type": "code",
   "execution_count": null,
   "id": "054c6f36",
   "metadata": {},
   "outputs": [],
   "source": [
    "asd.shape"
   ]
  },
  {
   "cell_type": "code",
   "execution_count": null,
   "id": "3370023e",
   "metadata": {},
   "outputs": [],
   "source": [
    "Y = F.conv2d(XX, A)\n",
    "Y2 = F.conv2d(XX, A)"
   ]
  },
  {
   "cell_type": "code",
   "execution_count": null,
   "id": "b3985b4d",
   "metadata": {},
   "outputs": [],
   "source": [
    "Y.shape"
   ]
  },
  {
   "cell_type": "code",
   "execution_count": 5,
   "id": "cf49392b",
   "metadata": {},
   "outputs": [],
   "source": [
    "x_all = xr.load_dataarray(r'C:\\Users\\leeatgen.WISMAIN\\Desktop\\Vova\\all_data.nc').values.astype(np.float32)"
   ]
  },
  {
   "cell_type": "code",
   "execution_count": 6,
   "id": "46788821",
   "metadata": {},
   "outputs": [],
   "source": [
    "X_all = torch.tensor(x_all.astype(np.float32), requires_grad=False)"
   ]
  },
  {
   "cell_type": "code",
   "execution_count": 7,
   "id": "59295c4e",
   "metadata": {},
   "outputs": [],
   "source": [
    "class CancerDataset2(Dataset):\n",
    "    def __init__(self, data, random_crop, initial_transform=None):\n",
    "        super().__init__()\n",
    "        if initial_transform:\n",
    "            self.data = initial_transform(data)\n",
    "        else:\n",
    "            self.data = data\n",
    "            \n",
    "        self.batch_size = batch_size    \n",
    "        self.random_crop = random_crop\n",
    "        self.transform = T.Compose([\n",
    "    T.RandomHorizontalFlip(p=0.5),\n",
    "    T.RandomRotation(30),\n",
    "    T.RandomPerspective(),\n",
    "    T.RandomCrop(size=random_crop),\n",
    "    T.RandomAffine(degrees=0, translate=(0.1, 0.1)),\n",
    "    T.RandomErasing(p=0.1, scale=(0.02, 0.1), ratio=(0.01, 1), value=0, inplace=False)\n",
    "])\n",
    "    def __len__(self):\n",
    "        return(len(self.data))\n",
    "\n",
    "    def __getitem__(self,idx):\n",
    "        return self.transform(self.data[idx])"
   ]
  },
  {
   "cell_type": "code",
   "execution_count": 9,
   "id": "be3ff0da",
   "metadata": {},
   "outputs": [],
   "source": [
    "center_crop = 512\n",
    "take_crop = T.Compose([T.CenterCrop(center_crop)])\n",
    "ds2 = CancerDataset2(X_all,8,256,take_crop)"
   ]
  },
  {
   "cell_type": "code",
   "execution_count": 13,
   "id": "bc711833",
   "metadata": {},
   "outputs": [],
   "source": [
    "dl = DataLoader(ds2,40)"
   ]
  },
  {
   "cell_type": "code",
   "execution_count": 14,
   "id": "9a08eb8e",
   "metadata": {},
   "outputs": [
    {
     "name": "stdout",
     "output_type": "stream",
     "text": [
      "torch.Size([38, 40, 256, 256])\n"
     ]
    }
   ],
   "source": [
    "for i in dl:\n",
    "    print(i.shape)"
   ]
  },
  {
   "cell_type": "code",
   "execution_count": null,
   "id": "54a87f45",
   "metadata": {},
   "outputs": [],
   "source": []
  }
 ],
 "metadata": {
  "kernelspec": {
   "display_name": "Python 3",
   "language": "python",
   "name": "python3"
  },
  "language_info": {
   "codemirror_mode": {
    "name": "ipython",
    "version": 3
   },
   "file_extension": ".py",
   "mimetype": "text/x-python",
   "name": "python",
   "nbconvert_exporter": "python",
   "pygments_lexer": "ipython3",
   "version": "3.9.4"
  }
 },
 "nbformat": 4,
 "nbformat_minor": 5
}
