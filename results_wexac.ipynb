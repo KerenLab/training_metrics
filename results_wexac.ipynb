{
 "cells": [
  {
   "cell_type": "code",
   "execution_count": 1,
   "id": "9cdaba35",
   "metadata": {},
   "outputs": [],
   "source": [
    "import xarray as xr\n",
    "import scipy as sp\n",
    "from scipy import ndimage\n",
    "import torch\n",
    "import matplotlib.pyplot as plt\n",
    "import numpy as np\n",
    "import seaborn as sns\n",
    "from sklearn import preprocessing\n",
    "from sklearn.metrics import f1_score as f1\n",
    "from sklearn.metrics import mean_squared_error as mse\n",
    "import skimage.io as io\n",
    "import pandas as pd\n",
    "import scipy.stats as stats\n",
    "import seaborn as sns\n",
    "import os\n",
    "sns.set()"
   ]
  },
  {
   "cell_type": "code",
   "execution_count": null,
   "id": "658b4d10",
   "metadata": {},
   "outputs": [],
   "source": [
    "#all_data =  xr.load_dataarray(r'Z:\\vovam\\Vova\\data\\all_data.nc')"
   ]
  },
  {
   "cell_type": "code",
   "execution_count": 21,
   "id": "750830f4",
   "metadata": {},
   "outputs": [],
   "source": [
    "DIR = r'Z:\\vovam\\Vova\\outputs\\2021-05-19\\16-27-48\\x_hat'\n",
    "os.chdir(DIR)"
   ]
  },
  {
   "cell_type": "code",
   "execution_count": 10,
   "id": "dec1f731",
   "metadata": {},
   "outputs": [],
   "source": [
    "all_iter = os.listdir()\n",
    "iter_values = [int(i.replace('iter','').split('_')[0]) for i in all_iter]"
   ]
  },
  {
   "cell_type": "code",
   "execution_count": 15,
   "id": "aea65399",
   "metadata": {},
   "outputs": [
    {
     "data": {
      "text/plain": [
       "'iter164000_0.24.pt'"
      ]
     },
     "execution_count": 15,
     "metadata": {},
     "output_type": "execute_result"
    }
   ],
   "source": [
    "all_iter[iter_values.index(max(iter_values))-1]"
   ]
  }
 ],
 "metadata": {
  "kernelspec": {
   "display_name": "Python 3",
   "language": "python",
   "name": "python3"
  },
  "language_info": {
   "codemirror_mode": {
    "name": "ipython",
    "version": 3
   },
   "file_extension": ".py",
   "mimetype": "text/x-python",
   "name": "python",
   "nbconvert_exporter": "python",
   "pygments_lexer": "ipython3",
   "version": "3.8.10"
  }
 },
 "nbformat": 4,
 "nbformat_minor": 5
}
